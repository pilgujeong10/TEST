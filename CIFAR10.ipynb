{
  "nbformat": 4,
  "nbformat_minor": 0,
  "metadata": {
    "colab": {
      "name": "CIFAR10.ipynb",
      "version": "0.3.2",
      "provenance": [],
      "include_colab_link": true
    },
    "kernelspec": {
      "name": "python3",
      "display_name": "Python 3"
    },
    "accelerator": "GPU"
  },
  "cells": [
    {
      "cell_type": "markdown",
      "metadata": {
        "id": "view-in-github",
        "colab_type": "text"
      },
      "source": [
        "<a href=\"https://colab.research.google.com/github/pilgujeong10/TEST/blob/master/CIFAR10.ipynb\" target=\"_parent\"><img src=\"https://colab.research.google.com/assets/colab-badge.svg\" alt=\"Open In Colab\"/></a>"
      ]
    },
    {
      "metadata": {
        "id": "Y-1IqoneaxC4",
        "colab_type": "code",
        "colab": {}
      },
      "cell_type": "code",
      "source": [
        "# CIFAR-10\n",
        "import tensorflow as tf\n",
        "import numpy as np\n",
        "from tensorflow.keras.datasets.cifar10 import load_data\n",
        "\n",
        "(x_train, y_train),(x_test,y_test)= load_data()\n",
        "\n",
        "x_train = x_train/255.\n",
        "x_test - x_test/255.\n",
        "\n",
        "y_train = y_train.reshape([-1])\n",
        "y_test = y_test.reshape([-1])\n",
        "\n",
        "x= tf.placeholder(tf.float32, shape=[None,32,32,3])\n",
        "y= tf.placeholder(tf.int64, shape=[None])\n",
        "\n",
        "y_onehot = tf.one_hot(y,10)\n",
        "\n",
        "keep_prob = tf.placeholder(tf.float32)"
      ],
      "execution_count": 0,
      "outputs": []
    },
    {
      "metadata": {
        "id": "KOR-CLDIazMN",
        "colab_type": "code",
        "outputId": "84c0c42f-b3af-435f-dc71-4f7e037c8487",
        "colab": {
          "base_uri": "https://localhost:8080/",
          "height": 71
        }
      },
      "cell_type": "code",
      "source": [
        "W_conv1 = tf.Variable(tf.truncated_normal(shape=[5,5,3,64],stddev=5e-2))\n",
        "b_conv1 = tf.Variable(tf.constant(0.1,shape=[64]))\n",
        "h_conv1= tf.nn.relu(tf.nn.conv2d(x,W_conv1,strides=[1,1,1,1],padding='SAME')+b_conv1)\n",
        "h_pool1= tf.nn.max_pool(h_conv1,ksize=[1,2,2,1],strides=[1,2,2,1],padding='SAME')\n",
        "\n",
        "W_conv2 = tf.Variable(tf.truncated_normal(shape=[5,5,64,64],stddev=5e-2))\n",
        "b_conv2 = tf.Variable(tf.constant(0.1,shape=[64]))\n",
        "h_conv2= tf.nn.relu(tf.nn.conv2d(h_pool1 , W_conv2 ,strides=[1,1,1,1],padding='SAME')+b_conv2)\n",
        "h_pool2= tf.nn.max_pool(h_conv2,ksize=[1,2,2,1],strides=[1,2,2,1],padding='SAME')\n",
        "\n",
        "W_fc1 = tf.Variable(tf.truncated_normal(shape=[8*8*64,384],stddev=5e-2))\n",
        "b_fc1 = tf.Variable(tf.constant(0.1,shape=[384]))\n",
        "h_pool2_flat = tf.reshape(h_pool2,[-1,8*8*64])\n",
        "h_fc1 = tf.nn.relu(tf.matmul(h_pool2_flat,W_fc1)+b_fc1)\n",
        "h_fc1_drop = tf.nn.dropout(h_fc1,keep_prob=keep_prob)\n",
        "\n",
        "W_fc2 = tf.Variable(tf.truncated_normal(shape=[384,10],stddev=5e-2))\n",
        "b_fc2 = tf.Variable(tf.constant(0.1,shape=[10]))\n",
        "logits = tf.matmul(h_fc1_drop,W_fc2)+b_fc2\n",
        "y_pred = tf.nn.softmax(logits)"
      ],
      "execution_count": 0,
      "outputs": [
        {
          "output_type": "stream",
          "text": [
            "WARNING:tensorflow:From <ipython-input-11-3377217ff4ab>:15: calling dropout (from tensorflow.python.ops.nn_ops) with keep_prob is deprecated and will be removed in a future version.\n",
            "Instructions for updating:\n",
            "Please use `rate` instead of `keep_prob`. Rate should be set to `rate = 1 - keep_prob`.\n"
          ],
          "name": "stdout"
        }
      ]
    },
    {
      "metadata": {
        "id": "c2_6mKuea_BH",
        "colab_type": "code",
        "colab": {}
      },
      "cell_type": "code",
      "source": [
        "loss = tf.reduce_mean(tf.nn.softmax_cross_entropy_with_logits_v2(labels = y_onehot,logits=logits))\n",
        "train_step = tf.train.AdamOptimizer(1e-4).minimize(loss)\n",
        "correct_prediction = tf.equal(tf.argmax(y_pred,1),y)\n",
        "accuracy = tf.reduce_mean(tf.cast(correct_prediction,tf.float32))"
      ],
      "execution_count": 0,
      "outputs": []
    },
    {
      "metadata": {
        "id": "rptnNOYZA1N7",
        "colab_type": "code",
        "outputId": "632d5ff1-066c-4666-ca66-d088490aa2c5",
        "colab": {
          "base_uri": "https://localhost:8080/",
          "height": 251
        }
      },
      "cell_type": "code",
      "source": [
        "with tf.Session() as sess:\n",
        "  sess.run(tf.global_variables_initializer())\n",
        "  \n",
        "  for i in range(10000):\n",
        "    idx = np.random.randint(x_train.shape[0],size=128)\n",
        "    batch = (x_train[idx], y_train[idx])\n",
        "    if i % 100 ==0:\n",
        "      train_accuracy = sess.run(accuracy, feed_dict={x:batch[0], y:batch[1], keep_prob:1.})\n",
        "      loss_print = loss.eval(feed_dict={x:batch[0],y:batch[1], keep_prob:1.})\n",
        "      print(\"step: %d, acc:%f, loss:%f\" % (i, train_accuracy, loss_print))\n",
        "      \n",
        "    sess.run(train_step, feed_dict={x:x_test,y:y_test, keep_prob:0.5})\n",
        "  test_accuracy = accuracy.eval(feed_dict={x:x_test,y:y_test, keep_prob:1.})\n",
        "  print(\"test acc : %f\" %test_accuracy)\n",
        " "
      ],
      "execution_count": 0,
      "outputs": [
        {
          "output_type": "stream",
          "text": [
            "step: 0, acc:0.117188, loss:2.413371\n",
            "step: 100, acc:0.117188, loss:2.301052\n",
            "step: 200, acc:0.156250, loss:2.300285\n",
            "step: 300, acc:0.226562, loss:2.296139\n",
            "step: 400, acc:0.164062, loss:2.293788\n",
            "step: 500, acc:0.171875, loss:2.293326\n",
            "step: 600, acc:0.156250, loss:2.288141\n",
            "step: 700, acc:0.226562, loss:2.285082\n",
            "step: 800, acc:0.210938, loss:2.282581\n",
            "step: 900, acc:0.164062, loss:2.283262\n",
            "step: 1000, acc:0.218750, loss:2.271361\n",
            "step: 1100, acc:0.148438, loss:2.282826\n",
            "step: 1200, acc:0.132812, loss:2.291707\n"
          ],
          "name": "stdout"
        }
      ]
    },
    {
      "metadata": {
        "id": "UShL1Ci9C_Q-",
        "colab_type": "code",
        "colab": {}
      },
      "cell_type": "code",
      "source": [
        ""
      ],
      "execution_count": 0,
      "outputs": []
    }
  ]
}